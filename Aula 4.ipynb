{
 "cells": [
  {
   "cell_type": "markdown",
   "metadata": {},
   "source": [
    "Identação"
   ]
  },
  {
   "cell_type": "code",
   "execution_count": 6,
   "metadata": {},
   "outputs": [
    {
     "name": "stdout",
     "output_type": "stream",
     "text": [
      "o valor correspodente y para x=1 é -1\n",
      "o valor correspodente y para x= 1  é  -1\n"
     ]
    }
   ],
   "source": [
    "x=1\n",
    "y=x**2-5*x+3\n",
    "print(\"o valor correspodente y para x={} é {}\".format(x,y))\n",
    "print(\"o valor correspodente y para x=\", \n",
    "      x,\" é \",y)"
   ]
  },
  {
   "cell_type": "markdown",
   "metadata": {},
   "source": [
    "Condicionais"
   ]
  },
  {
   "cell_type": "code",
   "execution_count": 17,
   "metadata": {},
   "outputs": [
    {
     "name": "stdout",
     "output_type": "stream",
     "text": [
      "é impar\n",
      "não é multiplo de 2, 3 ou 5\n"
     ]
    }
   ],
   "source": [
    "#IF, ELIF, ELSE\n",
    "#se {alguma coisa} faça {isso}\n",
    "x=10\n",
    "y=2\n",
    "z=3\n",
    "a=13\n",
    "if z%y == 0: print('é par') \n",
    "\n",
    "#se {alguma coisa} faça {isso} senão faça {isso}\n",
    "if z%y == 0: print('é par') \n",
    "else: print('é impar')\n",
    "\n",
    "#se {alguma coisa} faça {isso} senão se {outra coisa} faça {isso}\n",
    "if a%2==0: print('multiplo de 2')\n",
    "elif a%3==0: print('multiplo de 3')\n",
    "elif a%5==0: print('multiplo de 5')\n",
    "\n",
    "#se {alguma coisa} faça {isso} senão se {outra coisa} faça {isso} ... senão faça {isso}\n",
    "if a%2==0: print('multiplo de 2')\n",
    "elif a%3==0: print('multiplo de 3')\n",
    "elif a%5==0: print('multiplo de 5')\n",
    "else: print('não é multiplo de 2, 3 ou 5')\n"
   ]
  },
  {
   "cell_type": "code",
   "execution_count": 19,
   "metadata": {},
   "outputs": [
    {
     "name": "stdout",
     "output_type": "stream",
     "text": [
      "o maior número é 10 e o menor número é 10.\n"
     ]
    }
   ],
   "source": [
    "x=int(input('digite um número: '))\n",
    "y=int(input('digite outro número: '))\n",
    "\n",
    "if x>y:\n",
    "    num_1=x\n",
    "    num_2=y\n",
    "elif x<y:\n",
    "    num_1=y\n",
    "    num_2=x\n",
    "else: \n",
    "    num_1=x\n",
    "    num_2=y\n",
    "\n",
    "print('o maior número é {} e o menor número é {}.'.format(num_1, num_2))"
   ]
  },
  {
   "cell_type": "code",
   "execution_count": null,
   "metadata": {},
   "outputs": [
    {
     "name": "stdout",
     "output_type": "stream",
     "text": [
      "os dois valores são iguais\n",
      "o maior número é 20 e o menor número é 1.\n"
     ]
    }
   ],
   "source": [
    "x=int(input('digite um número: '))\n",
    "y=int(input('digite outro número: '))\n",
    "if(x==y):\n",
    "    print('os dois valores são iguais')\n",
    "else:\n",
    "    if x>y:\n",
    "        num_1=x\n",
    "        num_2=y\n",
    "    elif x<y:\n",
    "        num_1=y\n",
    "        num_2=x\n",
    "    print('o maior número é {} e o menor número é {}.'.format(num_1, num_2))"
   ]
  },
  {
   "cell_type": "code",
   "execution_count": 27,
   "metadata": {},
   "outputs": [
    {
     "name": "stdout",
     "output_type": "stream",
     "text": [
      "multiplo de 2\n",
      "multiplo de 3\n",
      "multiplo de 5\n"
     ]
    }
   ],
   "source": [
    "a=int(input('digite outro número: '))\n",
    "if a%2==0: print('multiplo de 2')\n",
    "if a%3==0: print('multiplo de 3')\n",
    "if a%5==0: print('multiplo de 5')"
   ]
  },
  {
   "cell_type": "markdown",
   "metadata": {},
   "source": [
    "Os limites normais de hemácias em homens e mulheres são:     \n",
    "\n",
    "Homens: 4,3–5,8 milhões de hemácias por microlitro de sangue (\\(mm^{3}\\)) \n",
    "\n",
    "Mulheres: 3,9–5,1 milhões de hemácias por microlitro de sangue (\\(mm^{3}\\))"
   ]
  },
  {
   "cell_type": "code",
   "execution_count": 33,
   "metadata": {},
   "outputs": [
    {
     "ename": "ValueError",
     "evalue": "could not convert string to float: ''",
     "output_type": "error",
     "traceback": [
      "\u001b[1;31m---------------------------------------------------------------------------\u001b[0m",
      "\u001b[1;31mValueError\u001b[0m                                Traceback (most recent call last)",
      "Cell \u001b[1;32mIn[33], line 1\u001b[0m\n\u001b[1;32m----> 1\u001b[0m hemacia\u001b[38;5;241m=\u001b[39m\u001b[38;5;28;43mfloat\u001b[39;49m\u001b[43m(\u001b[49m\u001b[38;5;28;43minput\u001b[39;49m\u001b[43m(\u001b[49m\u001b[38;5;124;43m'\u001b[39;49m\u001b[38;5;124;43mdigite o valor da hemácia encontrado: \u001b[39;49m\u001b[38;5;124;43m'\u001b[39;49m\u001b[43m)\u001b[49m\u001b[43m)\u001b[49m\n\u001b[0;32m      2\u001b[0m sexo\u001b[38;5;241m=\u001b[39m\u001b[38;5;28minput\u001b[39m(\u001b[38;5;124m'\u001b[39m\u001b[38;5;124mdigite F para feminino ou M para masculino: \u001b[39m\u001b[38;5;124m'\u001b[39m)\n\u001b[0;32m      4\u001b[0m \u001b[38;5;28;01mif\u001b[39;00m(((hemacia\u001b[38;5;241m>\u001b[39m\u001b[38;5;241m4.3\u001b[39m) \u001b[38;5;241m&\u001b[39m (hemacia\u001b[38;5;241m<\u001b[39m\u001b[38;5;241m5.8\u001b[39m)) \u001b[38;5;241m&\u001b[39m (sexo\u001b[38;5;241m==\u001b[39m\u001b[38;5;124m'\u001b[39m\u001b[38;5;124mM\u001b[39m\u001b[38;5;124m'\u001b[39m)): \u001b[38;5;28mprint\u001b[39m(\u001b[38;5;124m'\u001b[39m\u001b[38;5;124mDentro do padrão masculino\u001b[39m\u001b[38;5;124m'\u001b[39m)\n",
      "\u001b[1;31mValueError\u001b[0m: could not convert string to float: ''"
     ]
    }
   ],
   "source": [
    "hemacia=float(input('digite o valor da hemácia encontrado: '))\n",
    "sexo=input('digite F para feminino ou M para masculino: ')\n",
    "\n",
    "if(((hemacia>4.3) & (hemacia<5.8)) & (sexo=='M')): print('Dentro do padrão masculino')\n",
    "elif (((hemacia>3.9) & (hemacia<5.1)) & (sexo=='F')): print('Dentro do padrão feminino')\n",
    "elif(((hemacia>4.3) & (hemacia<5.1)) & ((sexo!='M') | (sexo!='F'))): print('dentro do padrão geral')\n",
    "else: print('fora dos padrões, procure um médico')"
   ]
  },
  {
   "cell_type": "markdown",
   "metadata": {},
   "source": [
    "While"
   ]
  },
  {
   "cell_type": "code",
   "execution_count": 37,
   "metadata": {},
   "outputs": [
    {
     "name": "stdout",
     "output_type": "stream",
     "text": [
      "0\n",
      "1\n",
      "2\n",
      "3\n",
      "4\n",
      "5\n",
      "6\n",
      "7\n",
      "8\n",
      "9\n"
     ]
    }
   ],
   "source": [
    "#enquanto {condição} faça\n",
    "i=0\n",
    "while i<10: \n",
    "    print(i)\n",
    "    i+=1 #=> i=i+1\n"
   ]
  },
  {
   "cell_type": "code",
   "execution_count": 38,
   "metadata": {},
   "outputs": [
    {
     "name": "stdout",
     "output_type": "stream",
     "text": [
      "Dentro do padrão feminino\n"
     ]
    }
   ],
   "source": [
    "hemacia=float(input('digite o valor da hemácia encontrado: '))\n",
    "aux=True\n",
    "while aux:\n",
    "    sexo=input('digite F para feminino ou M para masculino: ')\n",
    "    if(sexo=='F') | (sexo=='M'): aux=False\n",
    "\n",
    "if(((hemacia>4.3) & (hemacia<5.8)) & (sexo=='M')): print('Dentro do padrão masculino')\n",
    "elif (((hemacia>3.9) & (hemacia<5.1)) & (sexo=='F')): print('Dentro do padrão feminino')\n",
    "else: print('fora dos padrões, procure um médico')"
   ]
  },
  {
   "cell_type": "code",
   "execution_count": 39,
   "metadata": {},
   "outputs": [
    {
     "name": "stdout",
     "output_type": "stream",
     "text": [
      "fora dos padrões, procure um médico\n"
     ]
    }
   ],
   "source": [
    "hemacia=float(input('digite o valor da hemácia encontrado: '))\n",
    "\n",
    "while True:\n",
    "    sexo=input('digite F para feminino ou M para masculino: ')\n",
    "    if(sexo=='F') | (sexo=='M'): break\n",
    "\n",
    "if(((hemacia>4.3) & (hemacia<5.8)) & (sexo=='M')): print('Dentro do padrão masculino')\n",
    "elif (((hemacia>3.9) & (hemacia<5.1)) & (sexo=='F')): print('Dentro do padrão feminino')\n",
    "else: print('fora dos padrões, procure um médico')"
   ]
  },
  {
   "cell_type": "code",
   "execution_count": 40,
   "metadata": {},
   "outputs": [],
   "source": [
    "while True:\n",
    "    try:\n",
    "         hemacia=float(input('digite o valor da hemácia encontrado: '))\n",
    "    except: continue\n",
    "    break\n"
   ]
  },
  {
   "cell_type": "code",
   "execution_count": 41,
   "metadata": {},
   "outputs": [
    {
     "ename": "ValueError",
     "evalue": "could not convert string to float: 'dasfasf'",
     "output_type": "error",
     "traceback": [
      "\u001b[1;31m---------------------------------------------------------------------------\u001b[0m",
      "\u001b[1;31mValueError\u001b[0m                                Traceback (most recent call last)",
      "Cell \u001b[1;32mIn[41], line 1\u001b[0m\n\u001b[1;32m----> 1\u001b[0m hemacia\u001b[38;5;241m=\u001b[39m\u001b[38;5;28;43mfloat\u001b[39;49m\u001b[43m(\u001b[49m\u001b[38;5;28;43minput\u001b[39;49m\u001b[43m(\u001b[49m\u001b[38;5;124;43m'\u001b[39;49m\u001b[38;5;124;43mdigite o valor da hemácia encontrado: \u001b[39;49m\u001b[38;5;124;43m'\u001b[39;49m\u001b[43m)\u001b[49m\u001b[43m)\u001b[49m\n",
      "\u001b[1;31mValueError\u001b[0m: could not convert string to float: 'dasfasf'"
     ]
    }
   ],
   "source": [
    "hemacia=float(input('digite o valor da hemácia encontrado: '))"
   ]
  },
  {
   "cell_type": "markdown",
   "metadata": {},
   "source": [
    "For"
   ]
  },
  {
   "cell_type": "code",
   "execution_count": 47,
   "metadata": {},
   "outputs": [
    {
     "name": "stdout",
     "output_type": "stream",
     "text": [
      "1\n",
      "jaca\n",
      "True\n",
      "0.68\n"
     ]
    }
   ],
   "source": [
    "#para iterador em um iteravel faça\n",
    "lista=[1,'jaca',True,0.68]\n",
    "for i in range(len(lista)):\n",
    "    print(lista[i])"
   ]
  },
  {
   "cell_type": "code",
   "execution_count": 53,
   "metadata": {},
   "outputs": [
    {
     "name": "stdout",
     "output_type": "stream",
     "text": [
      "0\n",
      "10\n",
      "20\n",
      "30\n",
      "40\n",
      "50\n",
      "60\n",
      "70\n",
      "80\n",
      "90\n"
     ]
    }
   ],
   "source": [
    "for i in range(100):\n",
    "    if i%10!=0: \n",
    "        pass\n",
    "    else:\n",
    "        print(i)"
   ]
  },
  {
   "cell_type": "code",
   "execution_count": 54,
   "metadata": {},
   "outputs": [
    {
     "name": "stdout",
     "output_type": "stream",
     "text": [
      "t\n",
      "e\n",
      "x\n",
      "t\n",
      "o\n"
     ]
    }
   ],
   "source": [
    "for i in 'texto':\n",
    "    print(i)"
   ]
  },
  {
   "cell_type": "markdown",
   "metadata": {},
   "source": [
    "Escreva um programa em Python que solicita ao usuário uma frase e, em seguida, exibe cada palavra e seu número de caracteres."
   ]
  },
  {
   "cell_type": "code",
   "execution_count": 59,
   "metadata": {},
   "outputs": [
    {
     "name": "stdout",
     "output_type": "stream",
     "text": [
      "A : 1\n",
      "melhor : 6\n",
      "maneira : 7\n",
      "de : 2\n",
      "prever : 6\n",
      "o : 1\n",
      "futuro : 6\n",
      "é : 1\n",
      "criá-lo : 7\n"
     ]
    }
   ],
   "source": [
    "frase=input('insira uma frase: ')\n",
    "# A melhor maneira de prever o futuro é criá-lo\n",
    "for k in frase.split():\n",
    "    print(k,':', len(k))"
   ]
  },
  {
   "cell_type": "code",
   "execution_count": 63,
   "metadata": {},
   "outputs": [
    {
     "data": {
      "text/plain": [
       "['#A', 'melhor maneira/ de prever o futuro é criá-lo']"
      ]
     },
     "execution_count": 63,
     "metadata": {},
     "output_type": "execute_result"
    }
   ],
   "source": [
    "'A melhor maneira de prever o futuro é criá-lo'.split(' ',1)"
   ]
  },
  {
   "cell_type": "code",
   "execution_count": 69,
   "metadata": {},
   "outputs": [
    {
     "data": {
      "text/plain": [
       "'de Oliveira'"
      ]
     },
     "execution_count": 69,
     "metadata": {},
     "output_type": "execute_result"
    }
   ],
   "source": [
    "'Gabriel de Oliveira Souza'.split(' ',1)[1].replace(' ', '_', 1).split(' ')[0].replace('_', ' ')"
   ]
  },
  {
   "cell_type": "markdown",
   "metadata": {},
   "source": [
    "Crie um programa em Python que solicita ao usuário uma senha numérica de 4 dígitos. O programa deve repetir essa solicitação até que o usuário informe a senha correta (1234)."
   ]
  },
  {
   "cell_type": "code",
   "execution_count": 70,
   "metadata": {},
   "outputs": [],
   "source": [
    "while True:\n",
    "    senha=input('digite a senha: ')\n",
    "    if senha == '1234': break"
   ]
  },
  {
   "cell_type": "markdown",
   "metadata": {},
   "source": [
    "Escreva um programa que dado um valor n calcula o fatorial de n."
   ]
  },
  {
   "cell_type": "code",
   "execution_count": 86,
   "metadata": {},
   "outputs": [
    {
     "name": "stdout",
     "output_type": "stream",
     "text": [
      "5\n",
      "4\n",
      "3\n",
      "2\n",
      "1\n",
      "120\n"
     ]
    }
   ],
   "source": [
    "n=int(input('digite um valor: '))\n",
    "fatorial=1\n",
    "for i in range(n,0,-1):\n",
    "    fatorial=fatorial*i\n",
    "    print(i)\n",
    "print(fatorial)"
   ]
  },
  {
   "cell_type": "code",
   "execution_count": 79,
   "metadata": {},
   "outputs": [
    {
     "data": {
      "text/plain": [
       "27"
      ]
     },
     "execution_count": 79,
     "metadata": {},
     "output_type": "execute_result"
    }
   ],
   "source": [
    "fatorial"
   ]
  }
 ],
 "metadata": {
  "kernelspec": {
   "display_name": "base",
   "language": "python",
   "name": "python3"
  },
  "language_info": {
   "codemirror_mode": {
    "name": "ipython",
    "version": 3
   },
   "file_extension": ".py",
   "mimetype": "text/x-python",
   "name": "python",
   "nbconvert_exporter": "python",
   "pygments_lexer": "ipython3",
   "version": "3.11.10"
  }
 },
 "nbformat": 4,
 "nbformat_minor": 2
}
