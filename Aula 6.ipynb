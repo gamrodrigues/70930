{
 "cells": [
  {
   "cell_type": "markdown",
   "metadata": {},
   "source": [
    "# Correção da atividade"
   ]
  },
  {
   "cell_type": "markdown",
   "metadata": {},
   "source": [
    "1. Escreva uma função em Python que recebe uma frase e, em seguida, exibe cada palavra e seu número de caracteres."
   ]
  },
  {
   "cell_type": "code",
   "execution_count": 1,
   "metadata": {},
   "outputs": [
    {
     "name": "stdout",
     "output_type": "stream",
     "text": [
      "A : 1\n",
      "melhor : 6\n",
      "maneira : 7\n",
      "de : 2\n",
      "prever : 6\n",
      "o : 1\n",
      "futuro : 6\n",
      "é : 1\n",
      "criá-lo : 7\n"
     ]
    }
   ],
   "source": [
    "def separa_palavra (frase):\n",
    "    for k in frase.split():\n",
    "        print(k,':', len(k))\n",
    "\n",
    "separa_palavra('A melhor maneira de prever o futuro é criá-lo')"
   ]
  },
  {
   "cell_type": "markdown",
   "metadata": {},
   "source": [
    "2. Escreva uma função que dado um valor n calcula o fatorial de n."
   ]
  },
  {
   "cell_type": "code",
   "execution_count": 3,
   "metadata": {},
   "outputs": [
    {
     "data": {
      "text/plain": [
       "120"
      ]
     },
     "execution_count": 3,
     "metadata": {},
     "output_type": "execute_result"
    }
   ],
   "source": [
    "def fatorial(n):\n",
    "    fatorial=1\n",
    "    for i in range(n,0,-1):\n",
    "        fatorial=fatorial*i\n",
    "    return fatorial\n",
    "\n",
    "fatorial(5)"
   ]
  },
  {
   "cell_type": "markdown",
   "metadata": {},
   "source": [
    "3. Escreva uma função que retorne True caso um número seja primo (divisivel somente por 1 e por ele mesmo) ou False caso não seja primo."
   ]
  },
  {
   "cell_type": "code",
   "execution_count": 9,
   "metadata": {},
   "outputs": [
    {
     "data": {
      "text/plain": [
       "False"
      ]
     },
     "execution_count": 9,
     "metadata": {},
     "output_type": "execute_result"
    }
   ],
   "source": [
    "def primo(x):\n",
    "    eh_primo=True\n",
    "    for i in range(2,x):\n",
    "        if x%i==0: eh_primo=False\n",
    "    return eh_primo\n",
    "primo(4)"
   ]
  },
  {
   "cell_type": "markdown",
   "metadata": {},
   "source": [
    "4. Escreva uma função que leia dois números e encontre os números primos entre eles incluindo os dois números."
   ]
  },
  {
   "cell_type": "code",
   "execution_count": null,
   "metadata": {},
   "outputs": [
    {
     "data": {
      "text/plain": [
       "[]"
      ]
     },
     "execution_count": 13,
     "metadata": {},
     "output_type": "execute_result"
    }
   ],
   "source": [
    "def range_primo(numero_1, numero_2):\n",
    "    primos=[]\n",
    "    if(numero_1>numero_2):\n",
    "        aux=numero_1\n",
    "        numero_1=numero_2\n",
    "        numero_2=aux\n",
    "    for i in range(numero_1, numero_2): #loop entre os dois valores\n",
    "        if primo(i): primos.append(i)\n",
    "    return primos\n",
    "\n",
    "range_primo(1,1)"
   ]
  },
  {
   "cell_type": "markdown",
   "metadata": {},
   "source": [
    "# Progamação orientada a objetos"
   ]
  },
  {
   "cell_type": "code",
   "execution_count": 15,
   "metadata": {},
   "outputs": [
    {
     "data": {
      "text/plain": [
       "range(1, 2)"
      ]
     },
     "execution_count": 15,
     "metadata": {},
     "output_type": "execute_result"
    }
   ],
   "source": [
    "range(1,2)"
   ]
  },
  {
   "cell_type": "code",
   "execution_count": 16,
   "metadata": {},
   "outputs": [],
   "source": [
    "class Cachorro:\n",
    "    def __init__(self, nome, idade, raca):\n",
    "        self.Nome = nome\n",
    "        self.Idade = idade\n",
    "        self.Raça = raca"
   ]
  },
  {
   "cell_type": "code",
   "execution_count": 17,
   "metadata": {},
   "outputs": [],
   "source": [
    "meu_cachorro= Cachorro('Milo', 12, 'Vira-lata')"
   ]
  },
  {
   "cell_type": "code",
   "execution_count": 22,
   "metadata": {},
   "outputs": [
    {
     "data": {
      "text/plain": [
       "'Vira-lata'"
      ]
     },
     "execution_count": 22,
     "metadata": {},
     "output_type": "execute_result"
    }
   ],
   "source": [
    "meu_cachorro.Raça"
   ]
  },
  {
   "cell_type": "code",
   "execution_count": 25,
   "metadata": {},
   "outputs": [],
   "source": [
    "class Cachorro:\n",
    "    def __init__(self, nome, idade, raca):\n",
    "        self.Nome = nome\n",
    "        self.Idade = idade\n",
    "        self.Raça = raca\n",
    "    def latir (self):\n",
    "        print('Au!!!')"
   ]
  },
  {
   "cell_type": "code",
   "execution_count": 26,
   "metadata": {},
   "outputs": [],
   "source": [
    "meu_cachorro= Cachorro('Milo', 12, 'Vira-lata')"
   ]
  },
  {
   "cell_type": "code",
   "execution_count": 27,
   "metadata": {},
   "outputs": [
    {
     "name": "stdout",
     "output_type": "stream",
     "text": [
      "Au!!!\n"
     ]
    }
   ],
   "source": [
    "meu_cachorro.latir()"
   ]
  },
  {
   "cell_type": "code",
   "execution_count": 29,
   "metadata": {},
   "outputs": [
    {
     "data": {
      "text/plain": [
       "int"
      ]
     },
     "execution_count": 29,
     "metadata": {},
     "output_type": "execute_result"
    }
   ],
   "source": [
    "type(meu_cachorro.Idade)"
   ]
  },
  {
   "cell_type": "code",
   "execution_count": 39,
   "metadata": {},
   "outputs": [
    {
     "name": "stdout",
     "output_type": "stream",
     "text": [
      "20x+3\n",
      "raiz=-0.15\n"
     ]
    }
   ],
   "source": [
    "class Equacao_primeiro_grau: #F(X)=AX+B\n",
    "    def __init__(self, a, b):\n",
    "        self.inclinação = a\n",
    "        self.intercepto = b\n",
    "        self.raiz= -b/a\n",
    "    def equacao(self):\n",
    "        print('{}x+{}'.format(self.inclinação, self.intercepto))\n",
    "    def raiz_print(self):\n",
    "        print('raiz={}'.format(self.raiz))\n",
    "    def y (self, x):\n",
    "        print(self.inclinação*x+self.intercepto)\n",
    "\n",
    "epg=Equacao_primeiro_grau(20,3)\n",
    "epg.equacao()\n",
    "epg.raiz_print()"
   ]
  },
  {
   "cell_type": "code",
   "execution_count": 41,
   "metadata": {},
   "outputs": [
    {
     "name": "stdout",
     "output_type": "stream",
     "text": [
      "203\n"
     ]
    }
   ],
   "source": [
    "epg.y(10)"
   ]
  },
  {
   "cell_type": "markdown",
   "metadata": {},
   "source": [
    "# Atividades"
   ]
  },
  {
   "cell_type": "markdown",
   "metadata": {},
   "source": [
    "1. Crie uma classe Retangulo que tenha os atributos base e altura e os métodos area() e perimetro(). Crie um objeto e teste os métodos. \n",
    "Obs.: área=base * altura, perimetro=2 * (base+altura)"
   ]
  },
  {
   "cell_type": "code",
   "execution_count": 1,
   "metadata": {},
   "outputs": [
    {
     "name": "stdout",
     "output_type": "stream",
     "text": [
      "5\n",
      "5\n",
      "25\n",
      "20\n"
     ]
    }
   ],
   "source": [
    "class Retangulo:\n",
    "    def __init__(self, base, altura):\n",
    "        self.Base = base\n",
    "        self.Altura = altura\n",
    "    def area(self):\n",
    "        return self.Base*self.Altura\n",
    "    def perimetro(self):\n",
    "        return 2*(self.Base+self.Altura)\n",
    "\n",
    "\n",
    "quadrado=Retangulo(5,5)\n",
    "print(quadrado.Base)\n",
    "print(quadrado.Altura)\n",
    "print(quadrado.area())\n",
    "print(quadrado.perimetro())\n",
    "        "
   ]
  },
  {
   "cell_type": "markdown",
   "metadata": {},
   "source": [
    "2. Crie uma classe Conta que tenha os atributos saldo e titular e os métodos depositar() e sacar(). Em seguida, instancie essa classe com um saldo inicial e realize algumas operações de depósito e saque para verificar se o saldo está sendo atualizado corretamente."
   ]
  },
  {
   "cell_type": "code",
   "execution_count": 7,
   "metadata": {},
   "outputs": [],
   "source": [
    "class Conta:\n",
    "    def __init__(self, saldo=0, titular=None):\n",
    "        self.saldo = saldo\n",
    "        self.titular = titular\n",
    "    def depositar (self, x):\n",
    "        self.saldo=x+self.saldo #<~=> self.saldo += x\n",
    "    def sacar(self, y):\n",
    "        self.saldo -= y    \n",
    "\n",
    "        "
   ]
  },
  {
   "cell_type": "code",
   "execution_count": 3,
   "metadata": {},
   "outputs": [
    {
     "name": "stdout",
     "output_type": "stream",
     "text": [
      "Gabriel\n",
      "0\n"
     ]
    }
   ],
   "source": [
    "banco=Conta(0,'Gabriel')\n",
    "print(banco.titular)\n",
    "print(banco.saldo)"
   ]
  },
  {
   "cell_type": "code",
   "execution_count": 4,
   "metadata": {},
   "outputs": [
    {
     "name": "stdout",
     "output_type": "stream",
     "text": [
      "100\n"
     ]
    }
   ],
   "source": [
    "banco.depositar(100)\n",
    "print(banco.saldo)"
   ]
  },
  {
   "cell_type": "code",
   "execution_count": 5,
   "metadata": {},
   "outputs": [
    {
     "name": "stdout",
     "output_type": "stream",
     "text": [
      "76.01\n"
     ]
    }
   ],
   "source": [
    "banco.sacar(23.99)\n",
    "print(banco.saldo)"
   ]
  },
  {
   "cell_type": "code",
   "execution_count": 9,
   "metadata": {},
   "outputs": [],
   "source": [
    "class Conta:\n",
    "    def __init__(self, titular, saldo=0):\n",
    "        self.saldo = saldo\n",
    "        self.titular = titular\n",
    "    def depositar (self, x):\n",
    "        self.saldo=x+self.saldo #<~=> self.saldo += x\n",
    "    def sacar(self, y):\n",
    "        self.saldo -= y   "
   ]
  },
  {
   "cell_type": "code",
   "execution_count": 11,
   "metadata": {},
   "outputs": [
    {
     "name": "stdout",
     "output_type": "stream",
     "text": [
      "Gabriel\n",
      "0\n"
     ]
    }
   ],
   "source": [
    "banco=Conta('Gabriel')\n",
    "print(banco.titular)\n",
    "print(banco.saldo)"
   ]
  },
  {
   "cell_type": "code",
   "execution_count": null,
   "metadata": {},
   "outputs": [],
   "source": []
  }
 ],
 "metadata": {
  "kernelspec": {
   "display_name": "base",
   "language": "python",
   "name": "python3"
  },
  "language_info": {
   "codemirror_mode": {
    "name": "ipython",
    "version": 3
   },
   "file_extension": ".py",
   "mimetype": "text/x-python",
   "name": "python",
   "nbconvert_exporter": "python",
   "pygments_lexer": "ipython3",
   "version": "3.11.10"
  }
 },
 "nbformat": 4,
 "nbformat_minor": 2
}
