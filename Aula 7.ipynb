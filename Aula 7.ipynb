{
 "cells": [
  {
   "cell_type": "code",
   "execution_count": 4,
   "metadata": {},
   "outputs": [],
   "source": [
    "#Encapsulamento\n",
    "\n",
    "class Cachorro:\n",
    "    def __init__(self, nome, idade, raca):\n",
    "        self._Nome = nome\n",
    "        self.__Idade = idade\n",
    "        self.Raça = raca\n",
    "    def latir (self):\n",
    "        print('Au!!!')"
   ]
  },
  {
   "cell_type": "code",
   "execution_count": 8,
   "metadata": {},
   "outputs": [],
   "source": [
    "teste=Cachorro('Toto', '2', 'pinsher')\n"
   ]
  },
  {
   "cell_type": "code",
   "execution_count": 9,
   "metadata": {},
   "outputs": [
    {
     "data": {
      "text/plain": [
       "'Toto'"
      ]
     },
     "execution_count": 9,
     "metadata": {},
     "output_type": "execute_result"
    }
   ],
   "source": [
    "teste._Nome"
   ]
  },
  {
   "cell_type": "code",
   "execution_count": 10,
   "metadata": {},
   "outputs": [
    {
     "ename": "AttributeError",
     "evalue": "'Cachorro' object has no attribute '__Idade'",
     "output_type": "error",
     "traceback": [
      "\u001b[1;31m---------------------------------------------------------------------------\u001b[0m",
      "\u001b[1;31mAttributeError\u001b[0m                            Traceback (most recent call last)",
      "Cell \u001b[1;32mIn[10], line 1\u001b[0m\n\u001b[1;32m----> 1\u001b[0m \u001b[43mteste\u001b[49m\u001b[38;5;241;43m.\u001b[39;49m\u001b[43m__Idade\u001b[49m\n",
      "\u001b[1;31mAttributeError\u001b[0m: 'Cachorro' object has no attribute '__Idade'"
     ]
    }
   ],
   "source": [
    "teste.__Idade"
   ]
  },
  {
   "cell_type": "code",
   "execution_count": 11,
   "metadata": {},
   "outputs": [],
   "source": [
    "#getter\n",
    "class Cachorro:\n",
    "    def __init__(self, nome, idade, raca):\n",
    "        self._Nome = nome\n",
    "        self.__Idade = idade\n",
    "        self.Raça = raca\n",
    "    def latir (self):\n",
    "        print('Au!!!')\n",
    "    def Idade (self):\n",
    "        return self.__Idade"
   ]
  },
  {
   "cell_type": "code",
   "execution_count": 14,
   "metadata": {},
   "outputs": [
    {
     "data": {
      "text/plain": [
       "2"
      ]
     },
     "execution_count": 14,
     "metadata": {},
     "output_type": "execute_result"
    }
   ],
   "source": [
    "teste2=Cachorro('Toto', 2, 'pinsher')\n"
   ]
  },
  {
   "cell_type": "code",
   "execution_count": 26,
   "metadata": {},
   "outputs": [
    {
     "ename": "AttributeError",
     "evalue": "'Cachorro' object has no attribute '__Idade'",
     "output_type": "error",
     "traceback": [
      "\u001b[1;31m---------------------------------------------------------------------------\u001b[0m",
      "\u001b[1;31mAttributeError\u001b[0m                            Traceback (most recent call last)",
      "Cell \u001b[1;32mIn[26], line 1\u001b[0m\n\u001b[1;32m----> 1\u001b[0m \u001b[43mteste2\u001b[49m\u001b[38;5;241;43m.\u001b[39;49m\u001b[43m__Idade\u001b[49m\n",
      "\u001b[1;31mAttributeError\u001b[0m: 'Cachorro' object has no attribute '__Idade'"
     ]
    }
   ],
   "source": [
    "teste2.__Idade"
   ]
  },
  {
   "cell_type": "code",
   "execution_count": null,
   "metadata": {},
   "outputs": [],
   "source": [
    "teste2.Idade()\n"
   ]
  },
  {
   "cell_type": "code",
   "execution_count": 15,
   "metadata": {},
   "outputs": [],
   "source": [
    "teste2.Raça = 'pincher'"
   ]
  },
  {
   "cell_type": "code",
   "execution_count": 16,
   "metadata": {},
   "outputs": [
    {
     "data": {
      "text/plain": [
       "'pincher'"
      ]
     },
     "execution_count": 16,
     "metadata": {},
     "output_type": "execute_result"
    }
   ],
   "source": [
    "teste2.Raça"
   ]
  },
  {
   "cell_type": "code",
   "execution_count": 17,
   "metadata": {},
   "outputs": [],
   "source": [
    "#setter\n",
    "class Cachorro:\n",
    "    def __init__(self, nome, idade, raca):\n",
    "        self._Nome = nome\n",
    "        self.__Idade = idade\n",
    "        self.Raça = raca\n",
    "    def latir (self):\n",
    "        print('Au!!!')\n",
    "    def ver_Idade (self):\n",
    "        return self.__Idade\n",
    "    def substituir_Idade (self,nIdade):\n",
    "        self.__Idade = nIdade\n",
    "        "
   ]
  },
  {
   "cell_type": "code",
   "execution_count": 20,
   "metadata": {},
   "outputs": [
    {
     "data": {
      "text/plain": [
       "2"
      ]
     },
     "execution_count": 20,
     "metadata": {},
     "output_type": "execute_result"
    }
   ],
   "source": [
    "teste3=Cachorro('Toto', 2, 'pinsher')\n",
    "teste3.ver_Idade()"
   ]
  },
  {
   "cell_type": "code",
   "execution_count": 23,
   "metadata": {},
   "outputs": [],
   "source": [
    "teste3.__Idade=5"
   ]
  },
  {
   "cell_type": "code",
   "execution_count": 24,
   "metadata": {},
   "outputs": [
    {
     "data": {
      "text/plain": [
       "2"
      ]
     },
     "execution_count": 24,
     "metadata": {},
     "output_type": "execute_result"
    }
   ],
   "source": [
    "teste3.ver_Idade()"
   ]
  },
  {
   "cell_type": "code",
   "execution_count": 25,
   "metadata": {},
   "outputs": [
    {
     "data": {
      "text/plain": [
       "5"
      ]
     },
     "execution_count": 25,
     "metadata": {},
     "output_type": "execute_result"
    }
   ],
   "source": [
    "teste3.substituir_Idade(5)\n",
    "teste3.ver_Idade()"
   ]
  },
  {
   "cell_type": "code",
   "execution_count": 30,
   "metadata": {},
   "outputs": [],
   "source": [
    "class Equacao_primeiro_grau: #F(X)=AX+B\n",
    "    def __init__(self, a, b):\n",
    "        self.inclinação = a\n",
    "        self.intercepto = b\n",
    "        self.raiz= -b/a\n",
    "    def __equacao(self):\n",
    "        print('{}x+{}'.format(self.inclinação, self.intercepto))\n",
    "    def raiz_print(self):\n",
    "        print('raiz={}'.format(self.raiz))\n",
    "    def y (self, x):\n",
    "        print(self.inclinação*x+self.intercepto)\n",
    "    def mostra_equação (self):\n",
    "        return self.__equacao()"
   ]
  },
  {
   "cell_type": "code",
   "execution_count": 31,
   "metadata": {},
   "outputs": [
    {
     "name": "stdout",
     "output_type": "stream",
     "text": [
      "-2x+9\n"
     ]
    }
   ],
   "source": [
    "eq=Equacao_primeiro_grau(-2,9)\n",
    "eq.mostra_equação()"
   ]
  },
  {
   "cell_type": "code",
   "execution_count": null,
   "metadata": {},
   "outputs": [],
   "source": [
    "#herança\n",
    "\n",
    "class Empresa():\n",
    "    def __init__(self, nome, data_admissao, salario):\n",
    "        self.Funcionário = nome\n",
    "        self.Ingresso = data_admissao\n",
    "        self.Remuneração = salario\n",
    "    def relatório(self):\n",
    "        print('Nome: {}\\nData de Adimissão: {}\\nSalário Atual: {}'.format(self.Funcionário, self.Ingresso, self.Remuneração))\n",
    "        "
   ]
  },
  {
   "cell_type": "code",
   "execution_count": 50,
   "metadata": {},
   "outputs": [
    {
     "name": "stdout",
     "output_type": "stream",
     "text": [
      "Nome: Gabriel\n",
      "Data de Adimissão: 18/02/2025\n",
      "Salário Atual: 1801.23\n"
     ]
    }
   ],
   "source": [
    "dados=Empresa('Gabriel', '18/02/2025', 1801.23)\n",
    "dados.relatório()"
   ]
  },
  {
   "cell_type": "code",
   "execution_count": 35,
   "metadata": {},
   "outputs": [],
   "source": [
    "class Vendas(Empresa):\n",
    "    def __init__(self, nome, data_admissao, salario, responsavel, projeto, classe):\n",
    "        super().__init__(nome, data_admissao, salario)\n",
    "        self.Responsável = responsavel\n",
    "        self.Projeto = projeto\n",
    "        self.Nível = classe\n",
    "    def relatório (self):\n",
    "        print('Responsável Técnico: {}\\nProjeto Atual: {}\\nNível: {}'.format(self.Remuneração, self.Projeto, self.Nível))"
   ]
  },
  {
   "cell_type": "code",
   "execution_count": 36,
   "metadata": {},
   "outputs": [],
   "source": [
    "dados_vendas=Vendas('Gabriel', '18/02/2025', 1801.23, 'Laura', 'Havaianas', 'II')"
   ]
  },
  {
   "cell_type": "code",
   "execution_count": 38,
   "metadata": {},
   "outputs": [
    {
     "name": "stdout",
     "output_type": "stream",
     "text": [
      "Responsável Técnico: 1801.23\n",
      "Projeto Atual: Havaianas\n",
      "Nível: II\n"
     ]
    }
   ],
   "source": [
    "dados_vendas.relatório()"
   ]
  },
  {
   "cell_type": "code",
   "execution_count": 60,
   "metadata": {},
   "outputs": [],
   "source": [
    "class Marketing(Empresa):\n",
    "    def __init__(self, nome, data_admissao, salario, responsavel, projeto, prazo):\n",
    "        super().__init__(nome, data_admissao, salario)\n",
    "        self.Responsável = responsavel\n",
    "        self.Projeto = projeto\n",
    "        self.Prazo = prazo\n",
    "    def relatório (self):\n",
    "        print('Responsável Técnico: {}\\nProjeto Atual: {}\\nPrazo: {}'.format(self.Remuneração, self.Projeto, self.Prazo))"
   ]
  },
  {
   "cell_type": "code",
   "execution_count": 61,
   "metadata": {},
   "outputs": [],
   "source": [
    "dados_marketing=Marketing('Gabriel', '18/02/2025', 1801.23, 'Laura', 'Havaianas', '25 dias')"
   ]
  },
  {
   "cell_type": "code",
   "execution_count": 45,
   "metadata": {},
   "outputs": [],
   "source": [
    "class Segmento_vendas(Vendas):\n",
    "    def __init__(self, nome, data_admissao, salario, responsavel, projeto, classe, segmento, meta):\n",
    "        super().__init__(nome, data_admissao, salario, responsavel, projeto, classe)\n",
    "        self.Segmento = segmento\n",
    "        self.Meta = meta\n",
    "    def relatório (self):\n",
    "        print('Segmento de Vendas: {}\\nMeta a Atingir: {}'.format(self.Segmento, self.Meta))    "
   ]
  },
  {
   "cell_type": "code",
   "execution_count": 46,
   "metadata": {},
   "outputs": [
    {
     "name": "stdout",
     "output_type": "stream",
     "text": [
      "Segmento de Vendas: Online\n",
      "Meta a Atingir: 200\n"
     ]
    }
   ],
   "source": [
    "dados_vendas_segmentadas=Segmento_vendas('Gabriel', '18/02/2025', 1801.23, 'Laura', 'Havaianas', 'II', 'Online', 200)\n",
    "dados_vendas_segmentadas.relatório()"
   ]
  },
  {
   "cell_type": "code",
   "execution_count": 51,
   "metadata": {},
   "outputs": [
    {
     "name": "stdout",
     "output_type": "stream",
     "text": [
      "Nome: Gabriel\n",
      "Data de Adimissão: 18/02/2025\n",
      "Salário Atual: 1801.23\n"
     ]
    }
   ],
   "source": [
    "dados.relatório()"
   ]
  },
  {
   "cell_type": "code",
   "execution_count": 52,
   "metadata": {},
   "outputs": [
    {
     "name": "stdout",
     "output_type": "stream",
     "text": [
      "Responsável Técnico: 1801.23\n",
      "Projeto Atual: Havaianas\n",
      "Nível: II\n"
     ]
    }
   ],
   "source": [
    "dados_vendas.relatório()"
   ]
  },
  {
   "cell_type": "code",
   "execution_count": 62,
   "metadata": {},
   "outputs": [
    {
     "name": "stdout",
     "output_type": "stream",
     "text": [
      "Responsável Técnico: 1801.23\n",
      "Projeto Atual: Havaianas\n",
      "Prazo: 25 dias\n"
     ]
    }
   ],
   "source": [
    "dados_marketing.relatório()"
   ]
  },
  {
   "cell_type": "code",
   "execution_count": 63,
   "metadata": {},
   "outputs": [],
   "source": [
    "class Conglomerado:\n",
    "    def __init__(self, filial):\n",
    "        self.Nome_Filial = filial\n",
    "    def Relatório (self):\n",
    "        raise NotImplementedError(\"A subclasse deve implementar este método\")\n"
   ]
  },
  {
   "cell_type": "code",
   "execution_count": 69,
   "metadata": {},
   "outputs": [],
   "source": [
    "class Empresa(Conglomerado):\n",
    "    def __init__(self, filial, nome, data_admissao, salario):\n",
    "        super().__init__(filial)\n",
    "        self.Funcionário = nome\n",
    "        self.Ingresso = data_admissao\n",
    "        self.Remuneração = salario\n",
    "    def Relatório(self):\n",
    "        print('Nome: {}\\nData de Adimissão: {}\\nSalário Atual: {}'.format(self.Funcionário, self.Ingresso, self.Remuneração))"
   ]
  },
  {
   "cell_type": "code",
   "execution_count": 70,
   "metadata": {},
   "outputs": [],
   "source": [
    "dados_conglomerado=Conglomerado('Lajinhos')\n",
    "dados_empresa = Empresa('Lajinhos','Gabriel', '18/02/2025', 1801.23)"
   ]
  },
  {
   "cell_type": "code",
   "execution_count": 71,
   "metadata": {},
   "outputs": [
    {
     "ename": "NotImplementedError",
     "evalue": "A subclasse deve implementar este método",
     "output_type": "error",
     "traceback": [
      "\u001b[1;31m---------------------------------------------------------------------------\u001b[0m",
      "\u001b[1;31mNotImplementedError\u001b[0m                       Traceback (most recent call last)",
      "Cell \u001b[1;32mIn[71], line 1\u001b[0m\n\u001b[1;32m----> 1\u001b[0m \u001b[43mdados_conglomerado\u001b[49m\u001b[38;5;241;43m.\u001b[39;49m\u001b[43mRelatório\u001b[49m\u001b[43m(\u001b[49m\u001b[43m)\u001b[49m\n",
      "Cell \u001b[1;32mIn[63], line 5\u001b[0m, in \u001b[0;36mConglomerado.Relatório\u001b[1;34m(self)\u001b[0m\n\u001b[0;32m      4\u001b[0m \u001b[38;5;28;01mdef\u001b[39;00m \u001b[38;5;21mRelatório\u001b[39m (\u001b[38;5;28mself\u001b[39m):\n\u001b[1;32m----> 5\u001b[0m     \u001b[38;5;28;01mraise\u001b[39;00m \u001b[38;5;167;01mNotImplementedError\u001b[39;00m(\u001b[38;5;124m\"\u001b[39m\u001b[38;5;124mA subclasse deve implementar este método\u001b[39m\u001b[38;5;124m\"\u001b[39m)\n",
      "\u001b[1;31mNotImplementedError\u001b[0m: A subclasse deve implementar este método"
     ]
    }
   ],
   "source": [
    "dados_conglomerado.Relatório()\n"
   ]
  },
  {
   "cell_type": "code",
   "execution_count": 72,
   "metadata": {},
   "outputs": [
    {
     "name": "stdout",
     "output_type": "stream",
     "text": [
      "Nome: Gabriel\n",
      "Data de Adimissão: 18/02/2025\n",
      "Salário Atual: 1801.23\n"
     ]
    }
   ],
   "source": [
    "dados_empresa.Relatório()"
   ]
  },
  {
   "cell_type": "code",
   "execution_count": null,
   "metadata": {},
   "outputs": [],
   "source": []
  }
 ],
 "metadata": {
  "kernelspec": {
   "display_name": "base",
   "language": "python",
   "name": "python3"
  },
  "language_info": {
   "codemirror_mode": {
    "name": "ipython",
    "version": 3
   },
   "file_extension": ".py",
   "mimetype": "text/x-python",
   "name": "python",
   "nbconvert_exporter": "python",
   "pygments_lexer": "ipython3",
   "version": "3.11.10"
  }
 },
 "nbformat": 4,
 "nbformat_minor": 2
}
