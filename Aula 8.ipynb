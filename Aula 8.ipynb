{
 "cells": [
  {
   "cell_type": "code",
   "execution_count": null,
   "metadata": {},
   "outputs": [],
   "source": [
    "# with open('qualquercoisa', 'modo') as arquivo:\n",
    "#     objeto = arquivo.read()"
   ]
  },
  {
   "cell_type": "code",
   "execution_count": 11,
   "metadata": {},
   "outputs": [],
   "source": [
    "with open('arquivo_txt.txt', 'w') as arquivo:\n",
    "    arquivo.write('A tecnologia aproxima pessoas, mas nada substitui um abraço sincero.\\n')\n",
    "    arquivo.write('Valorize cada momento!')"
   ]
  },
  {
   "cell_type": "code",
   "execution_count": 12,
   "metadata": {},
   "outputs": [],
   "source": [
    "with open('arquivo_txt.txt', 'a') as arquivo:\n",
    "    arquivo.write('\\n- GPT, Chat')"
   ]
  },
  {
   "cell_type": "code",
   "execution_count": 9,
   "metadata": {},
   "outputs": [
    {
     "name": "stdout",
     "output_type": "stream",
     "text": [
      "A tecnologia aproxima pessoas, mas nada substitui um abraço sincero.\n",
      "Valorize cada momento!\n",
      "<class 'str'>\n"
     ]
    },
    {
     "data": {
      "text/plain": [
       "'A tecnologia aproxima pessoas, mas nada substitui um abraço sincero.\\nValorize cada momento!'"
      ]
     },
     "execution_count": 9,
     "metadata": {},
     "output_type": "execute_result"
    }
   ],
   "source": [
    "with open('arquivo_txt.txt', 'r') as arquivo:\n",
    "    texto = arquivo.read()\n",
    "\n",
    "print(texto)\n",
    "print(type(texto))\n",
    "texto"
   ]
  },
  {
   "cell_type": "code",
   "execution_count": 7,
   "metadata": {},
   "outputs": [
    {
     "name": "stdout",
     "output_type": "stream",
     "text": [
      "A tecnologia aproxima pessoas, mas nada substitui um abraço sincero.\n",
      "\n",
      "Valorize cada momento!\n",
      "<class 'str'>\n"
     ]
    }
   ],
   "source": [
    "with open('arquivo_txt.txt', 'r') as arquivo:\n",
    "    print( arquivo.readline())\n",
    "    print( arquivo.readline())\n",
    "\n",
    "print(type(texto))"
   ]
  },
  {
   "cell_type": "code",
   "execution_count": 8,
   "metadata": {},
   "outputs": [
    {
     "name": "stdout",
     "output_type": "stream",
     "text": [
      "['A tecnologia aproxima pessoas, mas nada substitui um abraço sincero.\\n', 'Valorize cada momento!']\n",
      "<class 'list'>\n"
     ]
    }
   ],
   "source": [
    "with open('arquivo_txt.txt', 'r') as arquivo:\n",
    "    texto = arquivo.readlines()\n",
    "\n",
    "print(texto)\n",
    "print(type(texto))"
   ]
  },
  {
   "cell_type": "code",
   "execution_count": 14,
   "metadata": {},
   "outputs": [
    {
     "data": {
      "text/plain": [
       "dict"
      ]
     },
     "execution_count": 14,
     "metadata": {},
     "output_type": "execute_result"
    }
   ],
   "source": [
    "dados = {\n",
    "    \"nome\": \"Carlos\",\n",
    "    \"idade\": 30,\n",
    "    \"profissao\": \"Engenheiro\",\n",
    "    \"habilidades\": [\"Python\", \"SQL\", \"Machine Learning\"],\n",
    "    \"experiencia\": [\n",
    "        {\"empresa\": \"Tech Corp\", \"anos\": 3},\n",
    "        {\"empresa\": \"Data Solutions\", \"anos\": 2}\n",
    "    ]\n",
    "}\n",
    "type(dados)"
   ]
  },
  {
   "cell_type": "code",
   "execution_count": 3,
   "metadata": {},
   "outputs": [
    {
     "data": {
      "text/plain": [
       "dict"
      ]
     },
     "execution_count": 3,
     "metadata": {},
     "output_type": "execute_result"
    }
   ],
   "source": [
    "dados={\n",
    "    \"nome\": \"João\",\n",
    "    \"idade\": 30,\n",
    "    \"profissao\": \"Engenheiro\",\n",
    "    \"hobbies\": [\"leitura\", \"xadrez\", \"corrida\"]\n",
    "    }\n",
    "type(dados)"
   ]
  },
  {
   "cell_type": "code",
   "execution_count": null,
   "metadata": {},
   "outputs": [],
   "source": [
    "import json as js\n",
    "\n",
    "with open('arquivo_json.json', 'w') as arquivo:\n",
    "    js.dump(dados, arquivo)"
   ]
  },
  {
   "cell_type": "code",
   "execution_count": 15,
   "metadata": {},
   "outputs": [
    {
     "data": {
      "text/plain": [
       "{'nome': 'João',\n",
       " 'idade': 30,\n",
       " 'profissao': 'Engenheiro',\n",
       " 'hobbies': ['leitura', 'xadrez', 'corrida']}"
      ]
     },
     "execution_count": 15,
     "metadata": {},
     "output_type": "execute_result"
    }
   ],
   "source": [
    "dados"
   ]
  },
  {
   "cell_type": "code",
   "execution_count": null,
   "metadata": {},
   "outputs": [
    {
     "name": "stdout",
     "output_type": "stream",
     "text": [
      "{\n",
      " \"nome\": \"Jo\\u00e3o\",\n",
      " \"idade\": 30,\n",
      " \"profissao\": \"Engenheiro\",\n",
      " \"hobbies\": [\n",
      "  \"leitura\",\n",
      "  \"xadrez\",\n",
      "  \"corrida\"\n",
      " ]\n",
      "}\n"
     ]
    },
    {
     "data": {
      "text/plain": [
       "str"
      ]
     },
     "execution_count": 25,
     "metadata": {},
     "output_type": "execute_result"
    }
   ],
   "source": [
    "dados_dumps=js.dumps(dados, indent=1)\n",
    "print(dados_dumps)\n",
    "type(dados_dumps)"
   ]
  },
  {
   "cell_type": "code",
   "execution_count": 26,
   "metadata": {},
   "outputs": [],
   "source": [
    "with open('arquivo_json_dumps.json', 'w', encoding='ascii') as arquivo:\n",
    "    arquivo.write(dados_dumps)"
   ]
  },
  {
   "cell_type": "code",
   "execution_count": null,
   "metadata": {},
   "outputs": [
    {
     "data": {
      "text/plain": [
       "{'nome': 'João',\n",
       " 'idade': 30,\n",
       " 'profissao': 'Engenheiro',\n",
       " 'hobbies': ['leitura', 'xadrez', 'corrida']}"
      ]
     },
     "execution_count": 10,
     "metadata": {},
     "output_type": "execute_result"
    }
   ],
   "source": [
    "with open('arquivo_json.json', 'r') as arquivo:\n",
    "    dados= js.load(arquivo)\n",
    "dados"
   ]
  },
  {
   "cell_type": "code",
   "execution_count": 11,
   "metadata": {},
   "outputs": [
    {
     "data": {
      "text/plain": [
       "str"
      ]
     },
     "execution_count": 11,
     "metadata": {},
     "output_type": "execute_result"
    }
   ],
   "source": [
    "json_texto='''{\n",
    "    \"nome\": \"João\",\n",
    "    \"idade\": 30,\n",
    "    \"profissao\": \"Engenheiro\",\n",
    "    \"hobbies\": [\"leitura\", \"xadrez\", \"corrida\"]\n",
    "    }'''\n",
    "type(json_texto)"
   ]
  },
  {
   "cell_type": "code",
   "execution_count": 12,
   "metadata": {},
   "outputs": [
    {
     "data": {
      "text/plain": [
       "{'nome': 'João',\n",
       " 'idade': 30,\n",
       " 'profissao': 'Engenheiro',\n",
       " 'hobbies': ['leitura', 'xadrez', 'corrida']}"
      ]
     },
     "execution_count": 12,
     "metadata": {},
     "output_type": "execute_result"
    }
   ],
   "source": [
    "js.loads(json_texto)"
   ]
  },
  {
   "cell_type": "code",
   "execution_count": 27,
   "metadata": {},
   "outputs": [
    {
     "name": "stdout",
     "output_type": "stream",
     "text": [
      "<class 'list'>\n"
     ]
    },
    {
     "data": {
      "text/plain": [
       "[['id', 'nome', 'idade', 'cidade'],\n",
       " [1, 'Ana', 25, 'São Paulo'],\n",
       " [2, 'Carlos', 30, 'Rio de Janeiro'],\n",
       " [3, 'Mariana', 22, 'Belo Horizonte'],\n",
       " [4, 'João', 28, 'Curitiba'],\n",
       " [5, 'Beatriz', 35, 'Porto Alegre']]"
      ]
     },
     "execution_count": 27,
     "metadata": {},
     "output_type": "execute_result"
    }
   ],
   "source": [
    "import csv\n",
    "dados = [\n",
    "    [\"id\", \"nome\", \"idade\", \"cidade\"],\n",
    "    [1, \"Ana\", 25, \"São Paulo\"],\n",
    "    [2, \"Carlos\", 30, \"Rio de Janeiro\"],\n",
    "    [3, \"Mariana\", 22, \"Belo Horizonte\"],\n",
    "    [4, \"João\", 28, \"Curitiba\"],\n",
    "    [5, \"Beatriz\", 35, \"Porto Alegre\"]\n",
    "]\n",
    "print(type(dados))\n",
    "dados"
   ]
  },
  {
   "cell_type": "code",
   "execution_count": 29,
   "metadata": {},
   "outputs": [],
   "source": [
    "with open('arquivo_csv.csv', 'w') as arquivo:\n",
    "    writer = csv.writer(arquivo)\n",
    "    writer.writerow(dados)"
   ]
  },
  {
   "cell_type": "code",
   "execution_count": 39,
   "metadata": {},
   "outputs": [],
   "source": [
    "with open('arquivo_csv.csv', 'w') as arquivo:\n",
    "    writer = csv.writer(arquivo, delimiter=';', lineterminator='\\n')\n",
    "    writer.writerows(dados)"
   ]
  },
  {
   "cell_type": "code",
   "execution_count": 47,
   "metadata": {},
   "outputs": [
    {
     "data": {
      "text/plain": [
       "dict"
      ]
     },
     "execution_count": 47,
     "metadata": {},
     "output_type": "execute_result"
    }
   ],
   "source": [
    "dados={\n",
    "    \"nome\": \"João\",\n",
    "    \"idade\": 30,\n",
    "    \"profissao\": \"Engenheiro\",\n",
    "    \"hobbies\": [\"leitura\", \"xadrez\", \"corrida\"]\n",
    "    }\n",
    "type(dados)\n"
   ]
  },
  {
   "cell_type": "code",
   "execution_count": 49,
   "metadata": {},
   "outputs": [],
   "source": [
    "campos=['nome', 'idade', 'profissao', 'hobbies']\n",
    "\n",
    "with open('arquivo_csv_json.csv', 'w') as arquivo:\n",
    "    dict_arquivo = csv.DictWriter(arquivo, fieldnames=campos)\n",
    "    dict_arquivo.writeheader()\n",
    "    dict_arquivo.writerow(dados)"
   ]
  },
  {
   "cell_type": "code",
   "execution_count": null,
   "metadata": {},
   "outputs": [],
   "source": []
  },
  {
   "cell_type": "code",
   "execution_count": null,
   "metadata": {},
   "outputs": [],
   "source": [
    "import pandas as pd\n",
    "objeto = pd.read_csv('arquivo.csv', sep=';')\n",
    "objeto.to_csv('arquivo.csv', sep=';', decimal=',')"
   ]
  },
  {
   "cell_type": "code",
   "execution_count": 6,
   "metadata": {},
   "outputs": [
    {
     "name": "stdout",
     "output_type": "stream",
     "text": [
      "2025-02-25 20:24:08.941457\n"
     ]
    },
    {
     "data": {
      "text/plain": [
       "datetime.datetime"
      ]
     },
     "execution_count": 6,
     "metadata": {},
     "output_type": "execute_result"
    }
   ],
   "source": [
    "import datetime as dt\n",
    "hoje=dt.datetime.today()\n",
    "print(hoje)\n",
    "type(hoje)"
   ]
  },
  {
   "cell_type": "code",
   "execution_count": 8,
   "metadata": {},
   "outputs": [
    {
     "data": {
      "text/plain": [
       "2"
      ]
     },
     "execution_count": 8,
     "metadata": {},
     "output_type": "execute_result"
    }
   ],
   "source": [
    "hoje.month"
   ]
  },
  {
   "cell_type": "code",
   "execution_count": 9,
   "metadata": {},
   "outputs": [
    {
     "name": "stdout",
     "output_type": "stream",
     "text": [
      "2025-02-25 20:26:00.805068\n"
     ]
    },
    {
     "data": {
      "text/plain": [
       "datetime.datetime"
      ]
     },
     "execution_count": 9,
     "metadata": {},
     "output_type": "execute_result"
    }
   ],
   "source": [
    "from datetime import datetime as dt\n",
    "hoje=dt.today()\n",
    "print(hoje)\n",
    "type(hoje)"
   ]
  }
 ],
 "metadata": {
  "kernelspec": {
   "display_name": "base",
   "language": "python",
   "name": "python3"
  },
  "language_info": {
   "codemirror_mode": {
    "name": "ipython",
    "version": 3
   },
   "file_extension": ".py",
   "mimetype": "text/x-python",
   "name": "python",
   "nbconvert_exporter": "python",
   "pygments_lexer": "ipython3",
   "version": "3.11.10"
  }
 },
 "nbformat": 4,
 "nbformat_minor": 2
}
