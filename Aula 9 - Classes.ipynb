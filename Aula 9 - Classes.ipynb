{
 "cells": [
  {
   "cell_type": "markdown",
   "metadata": {},
   "source": []
  },
  {
   "cell_type": "markdown",
   "metadata": {},
   "source": [
    "# Principais Magic Methods e seus Usos\n",
    "\n",
    "| Método               | Propósito                                       | Quando é chamado?                          |\n",
    "|----------------------|---------------------------------|----------------------------------|\n",
    "| `__init__(self, ...)`  | Construtor da classe. Inicializa atributos. | Quando um objeto é criado (`obj = MinhaClasse()`). |\n",
    "| `__str__(self)`        | Representação em string do objeto.           | Quando `print(obj)` ou `str(obj)` é chamado. |\n",
    "| `__repr__(self)`       | Representação detalhada para debug.          | Quando `repr(obj)` ou no terminal interativo. |\n",
    "| `__len__(self)`        | Define o que `len(obj)` retorna.             | Quando `len(obj)` é chamado. |\n",
    "| `__getitem__(self, key)` | Permite acessar itens como listas/dicionários. | Quando `obj[key]` é usado. |\n",
    "| `__setitem__(self, key, value)` | Permite modificar itens como listas/dicionários. | Quando `obj[key] = value` é usado. |\n",
    "| `__delitem__(self, key)` | Permite deletar itens como listas/dicionários. | Quando `del obj[key]` é usado. |\n",
    "| `__contains__(self, item)` | Define `item in obj`. | Quando `item in obj` é chamado. |\n",
    "| `__call__(self, ...)` | Faz um objeto se comportar como função. | Quando `obj()` é chamado. |\n",
    "| `__eq__(self, other)` | Define `==` (igualdade). | Quando `obj1 == obj2` é usado. |\n",
    "| `__ne__(self, other)` | Define `!=` (diferença). | Quando `obj1 != obj2` é usado. |\n",
    "| `__lt__(self, other)` | Define `<` (menor que). | Quando `obj1 < obj2` é usado. |\n",
    "| `__le__(self, other)` | Define `<=` (menor ou igual). | Quando `obj1 <= obj2` é usado. |\n",
    "| `__gt__(self, other)` | Define `>` (maior que). | Quando `obj1 > obj2` é usado. |\n",
    "| `__ge__(self, other)` | Define `>=` (maior ou igual). | Quando `obj1 >= obj2` é usado. |\n",
    "| `__add__(self, other)` | Define `+` entre objetos. | Quando `obj1 + obj2` é usado. |\n",
    "| `__sub__(self, other)` | Define `-` entre objetos. | Quando `obj1 - obj2` é usado. |\n",
    "| `__mul__(self, other)` | Define `*` entre objetos. | Quando `obj1 * obj2` é usado. |\n",
    "| `__truediv__(self, other)` | Define `/` entre objetos. | Quando `obj1 / obj2` é usado. |\n",
    "| `__floordiv__(self, other)` | Define `//` entre objetos. | Quando `obj1 // obj2` é usado. |\n",
    "| `__mod__(self, other)` | Define `%` entre objetos. | Quando `obj1 % obj2` é usado. |\n",
    "| `__pow__(self, other)` | Define `**` entre objetos. | Quando `obj1 ** obj2` é usado. |\n"
   ]
  },
  {
   "cell_type": "code",
   "execution_count": 1,
   "metadata": {},
   "outputs": [],
   "source": [
    "import pasta.Aula_Classes as ac"
   ]
  },
  {
   "cell_type": "code",
   "execution_count": 4,
   "metadata": {},
   "outputs": [],
   "source": [
    "teste=ac.criar_classe([1,2,3,4,5,6])"
   ]
  },
  {
   "cell_type": "code",
   "execution_count": null,
   "metadata": {},
   "outputs": [],
   "source": [
    "ac.cr"
   ]
  },
  {
   "cell_type": "code",
   "execution_count": 5,
   "metadata": {},
   "outputs": [
    {
     "data": {
      "text/plain": [
       "2"
      ]
     },
     "execution_count": 5,
     "metadata": {},
     "output_type": "execute_result"
    }
   ],
   "source": [
    "teste[1]"
   ]
  },
  {
   "cell_type": "code",
   "execution_count": 7,
   "metadata": {},
   "outputs": [
    {
     "name": "stdout",
     "output_type": "stream",
     "text": [
      "Esta lista tem 6 elementos.\n",
      "São eles:\n",
      "[1, 2, 3, 4, 5, 7]\n"
     ]
    }
   ],
   "source": [
    "teste[5]=7\n",
    "print(teste)"
   ]
  },
  {
   "cell_type": "code",
   "execution_count": 8,
   "metadata": {},
   "outputs": [
    {
     "data": {
      "text/plain": [
       "6"
      ]
     },
     "execution_count": 8,
     "metadata": {},
     "output_type": "execute_result"
    }
   ],
   "source": [
    "len(teste)"
   ]
  },
  {
   "cell_type": "code",
   "execution_count": 9,
   "metadata": {},
   "outputs": [
    {
     "data": {
      "text/plain": [
       "'Esta lista tem 6 elementos.\\nSão eles:\\n[1, 2, 3, 4, 5, 7]'"
      ]
     },
     "execution_count": 9,
     "metadata": {},
     "output_type": "execute_result"
    }
   ],
   "source": [
    "str(teste)"
   ]
  },
  {
   "cell_type": "code",
   "execution_count": 10,
   "metadata": {},
   "outputs": [
    {
     "data": {
      "text/plain": [
       "[1, 2, 3, 4, 5, 7]"
      ]
     },
     "execution_count": 10,
     "metadata": {},
     "output_type": "execute_result"
    }
   ],
   "source": [
    "teste.elementos"
   ]
  },
  {
   "cell_type": "code",
   "execution_count": 11,
   "metadata": {},
   "outputs": [
    {
     "name": "stdout",
     "output_type": "stream",
     "text": [
      "João, 30 anos\n",
      "João, 30 anos\n"
     ]
    }
   ],
   "source": [
    "class Pessoa:\n",
    "    def __init__(self, nome, idade):\n",
    "        self.nome = nome\n",
    "        self.idade = idade\n",
    "\n",
    "    def __str__(self):\n",
    "        return f'{self.nome}, {self.idade} anos'\n",
    "\n",
    "# Criando um objeto da classe Pessoa\n",
    "pessoa = Pessoa(\"João\", 30)\n",
    "\n",
    "# Chamando __str__ de forma implícita\n",
    "print(pessoa)       # Saída: João, 30 anos\n",
    "print(str(pessoa))  # Saída: João, 30 anos\n"
   ]
  },
  {
   "cell_type": "code",
   "execution_count": null,
   "metadata": {},
   "outputs": [],
   "source": []
  }
 ],
 "metadata": {
  "kernelspec": {
   "display_name": "base",
   "language": "python",
   "name": "python3"
  },
  "language_info": {
   "codemirror_mode": {
    "name": "ipython",
    "version": 3
   },
   "file_extension": ".py",
   "mimetype": "text/x-python",
   "name": "python",
   "nbconvert_exporter": "python",
   "pygments_lexer": "ipython3",
   "version": "3.11.10"
  }
 },
 "nbformat": 4,
 "nbformat_minor": 2
}
